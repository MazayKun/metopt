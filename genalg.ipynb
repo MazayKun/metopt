{
 "cells": [
  {
   "cell_type": "code",
   "execution_count": 110,
   "metadata": {},
   "outputs": [],
   "source": [
    "# Заранее извиняюсь за орфографические ошибки и опечатки\n",
    "import random as rnd\n",
    "import numpy as np\n",
    "import math\n",
    "import time"
   ]
  },
  {
   "cell_type": "code",
   "execution_count": 117,
   "metadata": {},
   "outputs": [],
   "source": [
    "# Начальные условия для поиска минимум заданной функции посредством генетического алгоритма\n",
    "\n",
    "N = 25 # 2^(N + 1) - размер сетки \n",
    "ITER = 600 # количество итераций работы алгоритма\n",
    "SIZE = 80 # размер популяции\n",
    "ALPHA = 0.5 # доля популяции, которая остается при селекции(всегда будет хотя бы одна, но всегда хотя бы одна вымрет)\n",
    "GAMMA = 0.1 # доля особей, которая мутирует в конце итерации(всегда будет хотя бы одна)\n",
    "# размер зоны поиска минимума по x и y соответственно  \n",
    "BX = -1\n",
    "EX = 1\n",
    "BY = -1\n",
    "EY = 1\n",
    "\n",
    "# функция, которая подлежит исследованию (4 + math.pow((x*x + y*y)**2, 1/3.0) - минимум в (0,0))\n",
    "def f(x, y):\n",
    "    return 4 + math.pow((x*x + y*y)**2, 1/3.0)\n",
    "\n",
    "\n",
    "# некоторые начальные подсчеты\n",
    "REST = int(ALPHA * SIZE)\n",
    "if REST == 0 : \n",
    "    REST = 1\n",
    "if REST == SIZE :\n",
    "    REST = SIZE - 1\n",
    "MUT = int(GAMMA * SIZE)\n",
    "if MUT == 0 : \n",
    "    MUT = 1\n",
    "\n",
    "X, Y = np.linspace(BX, EX, num=2**(N+1)+1), np.linspace(BY, EY, num=2**(N+1)+1)"
   ]
  },
  {
   "cell_type": "code",
   "execution_count": 118,
   "metadata": {},
   "outputs": [],
   "source": [
    "# перевод числа в двоичную систему\n",
    "def my_bin(x):\n",
    "    answ = []\n",
    "    while (x > 0) or (len(answ) < N + 1) :\n",
    "        answ.append(x % 2)\n",
    "        x = x // 2\n",
    "    answ.reverse()\n",
    "    return answ\n",
    "\n",
    "# обратный перевод\n",
    "def rebin(x):\n",
    "    answ = ''.join([str(y) for y in x])\n",
    "    return int(answ, 2)"
   ]
  },
  {
   "cell_type": "code",
   "execution_count": 119,
   "metadata": {},
   "outputs": [],
   "source": [
    "# Функции жизненного цикла популяции\n",
    "\n",
    "# функция, генерирующая стартовую популяцию\n",
    "# особь популяции - [геном, положение по иксу, положение по игрику, значение функции в этой точке, флаг модификации генома]\n",
    "def genPopulation():\n",
    "    population = []\n",
    "    for _ in range(SIZE) :\n",
    "        tmp1, tmp2 = rnd.randint(0, 2**(N+1) - 1), rnd.randint(0, 2**(N+1) - 1)\n",
    "        population.append([ my_bin(tmp1) + my_bin(tmp2), X[tmp1], Y[tmp2], f(X[tmp1],Y[tmp2]), False])\n",
    "    population.sort(key=lambda arg : arg[3])\n",
    "    return population\n",
    "\n",
    "# скрещивание самых удачных кандидатов\n",
    "# из удачной части берутся 2 случайных кандидата(это может быть тот же самый кандидат, тк бывают случаи, что удачной\n",
    "# считается часть из одного индивида) и от одного берется иксовая составляющая, от другого игриковая\n",
    "# они совмещаются и получается новая особь\n",
    "def crossing(population):\n",
    "    for i in range(SIZE - REST):\n",
    "        mom, dad = rnd.randint(0, REST - 1), rnd.randint(0, REST - 1)\n",
    "        mom_ch, dad_ch = population[mom][0][:N + 1], population[dad][0][N + 1:]\n",
    "        population[i + REST - 1][0] = mom_ch + dad_ch\n",
    "        population[i + REST - 1][4] = True\n",
    "    return population\n",
    "\n",
    "# случайные мутации\n",
    "# у нескольких особей один из генов (один бит) меняется на противоположный\n",
    "# одна и та же особь может быть выбрана несколько раз\n",
    "def mutation(population):\n",
    "    for _ in range(MUT) :\n",
    "        ind = rnd.randint(0, SIZE-1)\n",
    "        gen = rnd.randint(0, (N + 1) * 2 - 1)\n",
    "        population[ind][0][gen] = (population[ind][0][gen] + 1 ) % 2\n",
    "        population[ind][4] = True \n",
    "    return population\n",
    "\n",
    "# пересчет значений у новых и мутировавших экземпляров\n",
    "# обход популяции и проверка флагов модификации, если он положителен, то производится пересчет\n",
    "def recalc(population) :\n",
    "    for i in population:\n",
    "        if i[4] :\n",
    "            tmp1, tmp2 = rebin(i[0][:N + 1]), rebin(i[0][N + 1:])\n",
    "            i[1], i[2], i[3], i[4] = X[tmp1], Y[tmp2], f(X[tmp1], Y[tmp2]), False\n",
    "    return population"
   ]
  },
  {
   "cell_type": "code",
   "execution_count": 121,
   "metadata": {},
   "outputs": [
    {
     "name": "stdout",
     "output_type": "stream",
     "text": [
      "526\n"
     ]
    },
    {
     "data": {
      "text/plain": [
       "[-2.9802322387695312e-08, -2.9802322387695312e-08, 4.000000000146674]"
      ]
     },
     "execution_count": 121,
     "metadata": {},
     "output_type": "execute_result"
    }
   ],
   "source": [
    "start = int(time.time() * 1000)\n",
    "population = genPopulation()\n",
    "for _ in range(ITER):\n",
    "    population = crossing(population)\n",
    "    population = mutation(population)\n",
    "    population = recalc(population)\n",
    "    population.sort(key=lambda arg : arg[3])\n",
    "print(int(time.time() * 1000) - start)\n",
    "population[0][1:4]"
   ]
  },
  {
   "cell_type": "code",
   "execution_count": 81,
   "metadata": {},
   "outputs": [
    {
     "data": {
      "text/plain": [
       "-2"
      ]
     },
     "execution_count": 81,
     "metadata": {},
     "output_type": "execute_result"
    }
   ],
   "source": [
    "f(0, 1)\n"
   ]
  },
  {
   "cell_type": "code",
   "execution_count": null,
   "metadata": {},
   "outputs": [],
   "source": []
  }
 ],
 "metadata": {
  "kernelspec": {
   "display_name": "Python 3",
   "language": "python",
   "name": "python3"
  },
  "language_info": {
   "codemirror_mode": {
    "name": "ipython",
    "version": 3
   },
   "file_extension": ".py",
   "mimetype": "text/x-python",
   "name": "python",
   "nbconvert_exporter": "python",
   "pygments_lexer": "ipython3",
   "version": "3.7.3"
  }
 },
 "nbformat": 4,
 "nbformat_minor": 2
}
